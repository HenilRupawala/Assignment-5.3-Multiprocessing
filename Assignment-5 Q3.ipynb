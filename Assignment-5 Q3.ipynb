{
 "cells": [
  {
   "cell_type": "code",
   "execution_count": 1,
   "id": "bbf13ae7-98c5-4410-b21f-956b4e96805b",
   "metadata": {},
   "outputs": [],
   "source": [
    "# Q3. Write a python code to create a process using the multiprocessing module."
   ]
  },
  {
   "cell_type": "code",
   "execution_count": 3,
   "id": "52f36c4c-a1c9-4180-8148-c1d461c9ed79",
   "metadata": {},
   "outputs": [
    {
     "name": "stdout",
     "output_type": "stream",
     "text": [
      "Worker process executing\n",
      "Process has completed\n"
     ]
    }
   ],
   "source": [
    "import multiprocessing\n",
    "\n",
    "def worker():\n",
    "    \"\"\"Function to be executed by the child process\"\"\"\n",
    "    print(\"Worker process executing\")\n",
    "\n",
    "if __name__ == '__main__':\n",
    "    process = multiprocessing.Process(target=worker)\n",
    "    \n",
    "    process.start()\n",
    "    \n",
    "    process.join()\n",
    "\n",
    "    if process.is_alive():\n",
    "        print(\"Process is still running\")\n",
    "    else:\n",
    "        print(\"Process has completed\")"
   ]
  }
 ],
 "metadata": {
  "kernelspec": {
   "display_name": "Python 3 (ipykernel)",
   "language": "python",
   "name": "python3"
  },
  "language_info": {
   "codemirror_mode": {
    "name": "ipython",
    "version": 3
   },
   "file_extension": ".py",
   "mimetype": "text/x-python",
   "name": "python",
   "nbconvert_exporter": "python",
   "pygments_lexer": "ipython3",
   "version": "3.10.8"
  }
 },
 "nbformat": 4,
 "nbformat_minor": 5
}
