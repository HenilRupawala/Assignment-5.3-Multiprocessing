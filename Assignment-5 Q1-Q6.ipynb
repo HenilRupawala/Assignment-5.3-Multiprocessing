{
 "cells": [
  {
   "cell_type": "code",
   "execution_count": 1,
   "id": "d105abed-e800-4ab9-9f7b-8ce4f4823776",
   "metadata": {},
   "outputs": [],
   "source": [
    "# Q1. What is multiprocessing in python? Why is it useful?"
   ]
  },
  {
   "cell_type": "markdown",
   "id": "6d458047-09e8-4d00-9743-28ba266f3c01",
   "metadata": {},
   "source": [
    "Multiprocessing in Python refers to the ability to execute multiple processes simultaneously, leveraging multiple CPUs or CPU cores. It allows for true parallel execution of tasks by spawning multiple processes, each with its own memory space.\n",
    "\n",
    "Multiprocessing is useful for several reasons:\n",
    "\n",
    "1. **Improved Performance**: By utilizing multiple processors or CPU cores, multiprocessing can significantly enhance the performance of computationally intensive tasks. It enables parallel execution, distributing the workload across multiple processes and completing tasks faster.\n",
    "\n",
    "2. **Efficient Resource Utilization**: Multiprocessing enables efficient utilization of system resources. By utilizing multiple CPUs or CPU cores, it maximizes the available processing power and allows for better resource allocation.\n",
    "\n",
    "3. **Concurrency and Responsiveness**: Multiprocessing facilitates concurrent execution of tasks. Each process operates independently, allowing for the execution of multiple tasks simultaneously. This leads to improved responsiveness, especially in scenarios where tasks can run independently and concurrently.\n",
    "\n",
    "4. **Fault Isolation**: Each process in multiprocessing operates in its own memory space. If one process encounters an error or crashes, it does not affect the execution of other processes. This fault isolation enhances the stability and robustness of the overall system.\n",
    "\n",
    "5. **Scalability**: Multiprocessing supports the scalability of applications. By distributing workloads across multiple processes, it enables the handling of larger workloads and the utilization of available computing resources more effectively.\n",
    "\n",
    "Python provides the **multiprocessing** module as part of its standard library, which makes it easy to implement multiprocessing in Python programs. The module offers classes and functions for process creation, interprocess communication, synchronization, and coordination.\n",
    "\n",
    "In summary, multiprocessing in Python allows for parallel execution, improved performance, efficient resource utilization, concurrency, fault isolation, and scalability. It is particularly valuable for computationally intensive tasks, concurrent workloads, and situations where multiple CPUs or CPU cores can be leveraged to achieve faster execution."
   ]
  },
  {
   "cell_type": "code",
   "execution_count": null,
   "id": "4a941043-6d2a-49d7-bbb3-37ca98a68c0f",
   "metadata": {},
   "outputs": [],
   "source": []
  },
  {
   "cell_type": "code",
   "execution_count": 1,
   "id": "1a4016fb-52eb-4db6-8e67-f6356b7695a6",
   "metadata": {},
   "outputs": [],
   "source": [
    "# Q2. What are the differences between multiprocessing and multithreading?"
   ]
  },
  {
   "cell_type": "markdown",
   "id": "1c9d79ad-c889-4c83-a9bf-0f26b19c64e5",
   "metadata": {},
   "source": [
    "The differences between multiprocessing and multithreading are as follows:\n",
    "\n",
    "1. **Concurrency Model**: Multiprocessing involves running multiple processes simultaneously, where each process has its own memory space and runs independently. In contrast, multithreading involves running multiple threads within a single process, where threads share the same memory space.\n",
    "\n",
    "2. **Parallelism**: Multiprocessing allows for true parallelism, as multiple processes can execute on different CPUs or CPU cores, enabling tasks to run simultaneously. Multithreading achieves concurrency but not necessarily parallelism, as threads run within the same process and share resources, executing concurrently but potentially on the same CPU core.\n",
    "\n",
    "3. **Resource Consumption**: Multiprocessing typically consumes more system resources, such as memory, compared to multithreading. Each process in multiprocessing requires its own memory space and system resources. Multithreading, on the other hand, shares memory and resources within the same process.\n",
    "\n",
    "4. **Communication and Synchronization**: In multiprocessing, communication between processes is generally more complex and requires explicit mechanisms like interprocess communication (IPC). Processes do not share memory by default and need special techniques like shared memory or message passing to communicate. In multithreading, communication between threads is relatively simpler, as they share memory by default, allowing for direct communication and data sharing. However, proper synchronization mechanisms are needed to avoid race conditions and ensure thread safety.\n",
    "\n",
    "5. **Fault Isolation**: Multiprocessing provides better fault isolation compared to multithreading. In multiprocessing, if one process crashes or encounters an error, it does not affect other processes. In multithreading, a crash or error in one thread can potentially impact the stability and execution of other threads within the same process.\n",
    "\n",
    "6. **Complexity**: Multithreading is generally considered easier to implement and understand compared to multiprocessing. Multithreading involves less overhead in terms of process creation and communication. Multiprocessing, on the other hand, requires explicit process creation and communication mechanisms, making it slightly more complex.\n",
    "\n",
    "7. **Use Cases**: Multiprocessing is well-suited for computationally intensive tasks that can benefit from parallel execution across multiple CPUs or CPU cores. It is also useful for tasks involving external processes, such as launching separate programs or utilizing system-level resources. Multithreading is often used for I/O-bound tasks, such as network communication or file handling, where threads can overlap I/O operations and improve overall responsiveness.\n",
    "\n",
    "It's important to consider the specific requirements of your application when deciding whether to use multiprocessing or multithreading. The choice depends on factors such as the nature of the task, the level of parallelism needed, resource constraints, communication requirements, and the trade-offs between performance and complexity."
   ]
  },
  {
   "cell_type": "code",
   "execution_count": null,
   "id": "3d11d7b7-0ee5-41e4-9f61-3c87d75821b9",
   "metadata": {},
   "outputs": [],
   "source": []
  },
  {
   "cell_type": "code",
   "execution_count": 1,
   "id": "20abd5bc-e17a-4fa4-982f-bb5671ec265c",
   "metadata": {},
   "outputs": [],
   "source": [
    "# Q3. Write a python code to create a process using the multiprocessing module."
   ]
  },
  {
   "cell_type": "code",
   "execution_count": 3,
   "id": "14c35640-bb26-4fbd-be40-4ac8ffcc5f73",
   "metadata": {},
   "outputs": [
    {
     "name": "stdout",
     "output_type": "stream",
     "text": [
      "Worker process executing\n",
      "Process has completed\n"
     ]
    }
   ],
   "source": [
    "import multiprocessing\n",
    "\n",
    "def worker():\n",
    "    \"\"\"Function to be executed by the child process\"\"\"\n",
    "    print(\"Worker process executing\")\n",
    "\n",
    "if __name__ == '__main__':\n",
    "    process = multiprocessing.Process(target=worker)\n",
    "    \n",
    "    process.start()\n",
    "    \n",
    "    process.join()\n",
    "\n",
    "    if process.is_alive():\n",
    "        print(\"Process is still running\")\n",
    "    else:\n",
    "        print(\"Process has completed\")"
   ]
  },
  {
   "cell_type": "code",
   "execution_count": null,
   "id": "9d4589db-844f-4fd9-a642-c70ae01ba348",
   "metadata": {},
   "outputs": [],
   "source": []
  },
  {
   "cell_type": "code",
   "execution_count": 1,
   "id": "31e237ae-9429-4275-a5a7-78c7839dba24",
   "metadata": {},
   "outputs": [],
   "source": [
    "# Q4. What is a multiprocessing pool in python? Why is it used?"
   ]
  },
  {
   "cell_type": "markdown",
   "id": "c42de5a5-ad0b-45f7-8fdd-f1726844b2b3",
   "metadata": {},
   "source": [
    "A multiprocessing pool in Python refers to a mechanism provided by the **multiprocessing** module to manage a pool of worker processes. It allows for the distribution of tasks among multiple processes in a controlled and efficient manner.\n",
    "\n",
    "The multiprocessing pool is created using the **multiprocessing.Pool()** class, and it provides several methods to submit tasks for execution and retrieve the results. The pool internally manages the processes, allocating them to tasks and reusing them as needed.\n",
    "\n",
    "The multiprocessing pool is used for the following reasons:\n",
    "\n",
    "1. **Parallel Execution**: The pool enables parallel execution of tasks by utilizing multiple processes. It automatically distributes the tasks among the available processes, allowing for concurrent execution and potentially faster completion of the tasks.\n",
    "\n",
    "2. **Improved Performance**: By using multiple processes, the multiprocessing pool can take advantage of available CPU cores or processors, leading to improved performance for computationally intensive tasks. It allows for efficient utilization of system resources.\n",
    "\n",
    "3. **Simplified Task Management**: The pool abstracts away the details of process creation and management, making it easier to submit tasks for execution and retrieve the results. It handles the allocation and recycling of processes, reducing the complexity of managing processes manually.\n",
    "\n",
    "4. **Load Balancing**: The pool automatically distributes the workload among the available processes, ensuring a balanced distribution of tasks. It helps to optimize resource usage and avoid situations where some processes are idle while others are overloaded.\n",
    "\n",
    "5. **Result Handling**: The multiprocessing pool provides methods to retrieve the results of executed tasks. It allows for collecting the results in the order of task completion or accessing them as soon as they become available, depending on the specific requirements.\n",
    "\n",
    "The multiprocessing pool is particularly useful when dealing with a large number of independent tasks that can be executed in parallel. It simplifies the management of processes and provides a high-level interface for task submission and result retrieval. By leveraging the multiprocessing pool, developers can harness the power of parallelism and achieve better performance in their applications."
   ]
  },
  {
   "cell_type": "code",
   "execution_count": null,
   "id": "35f34536-9f11-4802-8ded-5e5b21df96ef",
   "metadata": {},
   "outputs": [],
   "source": []
  },
  {
   "cell_type": "code",
   "execution_count": 1,
   "id": "ecd115ac-945b-41f1-aaac-64f4d459693a",
   "metadata": {},
   "outputs": [],
   "source": [
    "# Q5. How can we create a pool of worker processes in python using the multiprocessing module?"
   ]
  },
  {
   "cell_type": "markdown",
   "id": "99038ff2-ac52-4abc-b1e1-5621f3ea512d",
   "metadata": {},
   "source": [
    "To create a pool of worker processes in Python using the **multiprocessing** module, you can utilize the **multiprocessing.Pool()** class. Here's an example:"
   ]
  },
  {
   "cell_type": "code",
   "execution_count": 3,
   "id": "998825ec-25bf-4761-98ac-cf265bb93a7f",
   "metadata": {},
   "outputs": [
    {
     "name": "stdout",
     "output_type": "stream",
     "text": [
      "[10, 16, 44, 112, 98]\n"
     ]
    }
   ],
   "source": [
    "import multiprocessing\n",
    "\n",
    "def worker(task):\n",
    "    \"\"\"Function to be executed by worker processes\"\"\"\n",
    "    result = task * 2\n",
    "    return result\n",
    "\n",
    "if __name__ == '__main__':\n",
    "    pool = multiprocessing.Pool(processes=4)\n",
    "    \n",
    "    tasks = [5, 8, 22, 56, 49]\n",
    "    \n",
    "    results = pool.map(worker, tasks)\n",
    "    \n",
    "    pool.close()\n",
    "    \n",
    "    pool.join()\n",
    "    \n",
    "    print(results)"
   ]
  },
  {
   "cell_type": "markdown",
   "id": "bd818966-4197-4666-9f51-8ce7223be57b",
   "metadata": {},
   "source": [
    "In this example, we create a multiprocessing pool by instantiating the **multiprocessing.Pool()** class and specifying the number of processes to be used (in this case, 4). The **worker()** function represents the task to be executed by the worker processes. It takes a task as input and returns the result.\n",
    "\n",
    "We define a list of tasks (**[1, 2, 3, 4, 5]** in this case) that will be processed by the worker processes. The **map()** method is used to submit the tasks to the pool for execution. It distributes the tasks among the worker processes and returns the results in the same order as the tasks.\n",
    "\n",
    "After submitting the tasks, we close the pool using the **close()** method to indicate that no more tasks will be submitted. Then, we call the **join()** method to wait for all the worker processes to complete.\n",
    "\n",
    "Finally, we print the results obtained from the worker processes."
   ]
  },
  {
   "cell_type": "code",
   "execution_count": null,
   "id": "8c2d0a55-d079-41a5-b1ff-b864cde34a6f",
   "metadata": {},
   "outputs": [],
   "source": []
  },
  {
   "cell_type": "code",
   "execution_count": 1,
   "id": "7a49a02d-6213-4c3b-9a1c-0756b8b52946",
   "metadata": {},
   "outputs": [],
   "source": [
    "# Q6. Write a python program to create 4 processes, each process should print a different number using the multiprocessing module in python."
   ]
  },
  {
   "cell_type": "code",
   "execution_count": 9,
   "id": "80b41fd2-018b-4d0f-8014-55cbb04d76a4",
   "metadata": {},
   "outputs": [
    {
     "name": "stdout",
     "output_type": "stream",
     "text": [
      "Process Process-29 prints: 10\n",
      "Process Process-30 prints: 11\n",
      "Process Process-31 prints: 12\n",
      "Process Process-32 prints: 13\n",
      "Process Process-33 prints: 14\n"
     ]
    }
   ],
   "source": [
    "import multiprocessing\n",
    "\n",
    "def print_number(number):\n",
    "    \"\"\"Function to print a number\"\"\"\n",
    "    print(f\"Process {multiprocessing.current_process().name} prints: {number}\")\n",
    "\n",
    "if __name__ == '__main__':\n",
    "    processes = []\n",
    "    \n",
    "    for i in range(10, 15):\n",
    "        process = multiprocessing.Process(target=print_number, args=(i,))\n",
    "        processes.append(process)\n",
    "        process.start()\n",
    "\n",
    "    for process in processes:\n",
    "        process.join()"
   ]
  }
 ],
 "metadata": {
  "kernelspec": {
   "display_name": "Python 3 (ipykernel)",
   "language": "python",
   "name": "python3"
  },
  "language_info": {
   "codemirror_mode": {
    "name": "ipython",
    "version": 3
   },
   "file_extension": ".py",
   "mimetype": "text/x-python",
   "name": "python",
   "nbconvert_exporter": "python",
   "pygments_lexer": "ipython3",
   "version": "3.10.8"
  }
 },
 "nbformat": 4,
 "nbformat_minor": 5
}
