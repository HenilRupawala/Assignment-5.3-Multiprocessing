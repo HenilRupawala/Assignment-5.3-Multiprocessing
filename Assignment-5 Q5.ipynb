{
 "cells": [
  {
   "cell_type": "code",
   "execution_count": 1,
   "id": "75c139b9-9820-4547-bd00-a6c0bde51197",
   "metadata": {},
   "outputs": [],
   "source": [
    "# Q5. How can we create a pool of worker processes in python using the multiprocessing module?"
   ]
  },
  {
   "cell_type": "markdown",
   "id": "cd0f6094-a442-42a0-abb7-842a96be025b",
   "metadata": {},
   "source": [
    "To create a pool of worker processes in Python using the **multiprocessing** module, you can utilize the **multiprocessing.Pool()** class. Here's an example:"
   ]
  },
  {
   "cell_type": "code",
   "execution_count": 3,
   "id": "d47c33e1-d1dd-429a-97f7-9e061be68dce",
   "metadata": {},
   "outputs": [
    {
     "name": "stdout",
     "output_type": "stream",
     "text": [
      "[10, 16, 44, 112, 98]\n"
     ]
    }
   ],
   "source": [
    "import multiprocessing\n",
    "\n",
    "def worker(task):\n",
    "    \"\"\"Function to be executed by worker processes\"\"\"\n",
    "    result = task * 2\n",
    "    return result\n",
    "\n",
    "if __name__ == '__main__':\n",
    "    pool = multiprocessing.Pool(processes=4)\n",
    "    \n",
    "    tasks = [5, 8, 22, 56, 49]\n",
    "    \n",
    "    results = pool.map(worker, tasks)\n",
    "    \n",
    "    pool.close()\n",
    "    \n",
    "    pool.join()\n",
    "    \n",
    "    print(results)"
   ]
  },
  {
   "cell_type": "markdown",
   "id": "4d7cb8fc-6fa2-46d1-8cf2-f481fd725077",
   "metadata": {},
   "source": [
    "In this example, we create a multiprocessing pool by instantiating the **multiprocessing.Pool()** class and specifying the number of processes to be used (in this case, 4). The **worker()** function represents the task to be executed by the worker processes. It takes a task as input and returns the result.\n",
    "\n",
    "We define a list of tasks (**[1, 2, 3, 4, 5]** in this case) that will be processed by the worker processes. The **map()** method is used to submit the tasks to the pool for execution. It distributes the tasks among the worker processes and returns the results in the same order as the tasks.\n",
    "\n",
    "After submitting the tasks, we close the pool using the **close()** method to indicate that no more tasks will be submitted. Then, we call the **join()** method to wait for all the worker processes to complete.\n",
    "\n",
    "Finally, we print the results obtained from the worker processes."
   ]
  }
 ],
 "metadata": {
  "kernelspec": {
   "display_name": "Python 3 (ipykernel)",
   "language": "python",
   "name": "python3"
  },
  "language_info": {
   "codemirror_mode": {
    "name": "ipython",
    "version": 3
   },
   "file_extension": ".py",
   "mimetype": "text/x-python",
   "name": "python",
   "nbconvert_exporter": "python",
   "pygments_lexer": "ipython3",
   "version": "3.10.8"
  }
 },
 "nbformat": 4,
 "nbformat_minor": 5
}
